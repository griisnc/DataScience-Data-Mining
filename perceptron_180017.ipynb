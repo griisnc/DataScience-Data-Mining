{
  "nbformat": 4,
  "nbformat_minor": 0,
  "metadata": {
    "colab": {
      "provenance": [],
      "authorship_tag": "ABX9TyNsleY/lmUq9j3961E0dReH"
    },
    "kernelspec": {
      "name": "python3",
      "display_name": "Python 3"
    },
    "language_info": {
      "name": "python"
    }
  },
  "cells": [
    {
      "cell_type": "code",
      "execution_count": null,
      "metadata": {
        "id": "F-_U9sbRZuQY"
      },
      "outputs": [],
      "source": [
        "import numpy as np\n",
        "import matplotlib.pyplot as plt"
      ]
    },
    {
      "cell_type": "code",
      "source": [
        "def perceptron(x, y):\n",
        "    # Inicializar los pesos y el bias aleatoriamente\n",
        "    np.random.seed(0)\n",
        "    weights = np.random.rand(x.shape[1])\n",
        "    bias = np.random.rand()\n",
        "\n",
        "    for _ in range(500):\n",
        "        # Iterar 500 veces\n",
        "        for i in range(x.shape[0]):\n",
        "            # Calcular la salida del perceptrón\n",
        "            output = np.dot(x[i], weights) + bias\n",
        "            prediction = 1 if output > 0 else 0\n",
        "\n",
        "            # Actualizar los pesos y el bias si la predicción es incorrecta\n",
        "            if prediction != y[i]:\n",
        "                weights += (y[i] - prediction) * x[i]\n",
        "                bias += y[i] - prediction\n",
        "\n",
        "    return weights, bias\n"
      ],
      "metadata": {
        "id": "Z0e2jUp8gfhd"
      },
      "execution_count": null,
      "outputs": []
    },
    {
      "cell_type": "code",
      "source": [
        "# Datos de entrenamiento\n",
        "\n",
        "X_train = np.array([[2,2],[1,-2],[-2,2],[-1,1],[2,-1]])\n",
        "y_train = np.array([0,1,0,1,0])\n",
        "\n",
        "# Ejecutar el perceptrón\n",
        "weights, bias = perceptron(X_train, y_train)\n",
        "\n",
        "# Comprobar la predicción desde la entrada 1\n",
        "for i in range(X_train.shape[0]):\n",
        "    output = np.dot(X_train[i], weights) + bias\n",
        "    prediction = 1 if output > 0 else 0\n",
        "    print(f'Entrada: {X_train[i]}, Predicción: {prediction}')"
      ],
      "metadata": {
        "colab": {
          "base_uri": "https://localhost:8080/"
        },
        "id": "4GpEqbOrvcj3",
        "outputId": "b416af8f-7c93-4c7c-8551-51fbde82ec28"
      },
      "execution_count": null,
      "outputs": [
        {
          "output_type": "stream",
          "name": "stdout",
          "text": [
            "Entrada: [2 2], Predicción: 0\n",
            "Entrada: [ 1 -2], Predicción: 1\n",
            "Entrada: [-2  2], Predicción: 0\n",
            "Entrada: [-1  1], Predicción: 1\n",
            "Entrada: [ 2 -1], Predicción: 0\n"
          ]
        }
      ]
    }
  ]
}