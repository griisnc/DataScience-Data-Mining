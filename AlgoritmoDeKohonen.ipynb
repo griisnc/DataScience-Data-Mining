{
  "nbformat": 4,
  "nbformat_minor": 0,
  "metadata": {
    "colab": {
      "provenance": [],
      "include_colab_link": true
    },
    "kernelspec": {
      "name": "python3",
      "display_name": "Python 3"
    },
    "language_info": {
      "name": "python"
    }
  },
  "cells": [
    {
      "cell_type": "markdown",
      "metadata": {
        "id": "view-in-github",
        "colab_type": "text"
      },
      "source": [
        "<a href=\"https://colab.research.google.com/github/griisnc/DataScience-Data-Mining/blob/main/AlgoritmoDeKohonen.ipynb\" target=\"_parent\"><img src=\"https://colab.research.google.com/assets/colab-badge.svg\" alt=\"Open In Colab\"/></a>"
      ]
    },
    {
      "cell_type": "code",
      "execution_count": null,
      "metadata": {
        "colab": {
          "base_uri": "https://localhost:8080/",
          "height": 923
        },
        "id": "ODBqhbHrh61u",
        "outputId": "ef2009a9-f145-408f-e6d7-e203cca8b8b3"
      },
      "outputs": [
        {
          "output_type": "stream",
          "name": "stdout",
          "text": [
            "Pesos finales:\n",
            "W1 = [0.3 0.4]\n",
            "W2 = [0.2 0.8]\n",
            "W3 = [0.7 0.8]\n",
            "W4 = [0.7 0.3]\n",
            "Asignación de grupos:\n",
            "Dato [0.5 0.1] asignado al Grupo 4\n",
            "Dato [0.7 0.4] asignado al Grupo 4\n",
            "Dato [0.7 0.9] asignado al Grupo 3\n",
            "Dato [0.8 0.3] asignado al Grupo 4\n",
            "Dato [0.  0.7] asignado al Grupo 2\n",
            "Dato [0.3 0.6] asignado al Grupo 1\n",
            "Dato [0.8 1. ] asignado al Grupo 3\n",
            "Dato [0.3 0.2] asignado al Grupo 1\n",
            "Dato [0.9 0.7] asignado al Grupo 3\n",
            "Dato [0.7 0.6] asignado al Grupo 3\n",
            "Dato [0.4 0.7] asignado al Grupo 2\n",
            "Dato [0.1 0.4] asignado al Grupo 1\n",
            "Dato [0.5 0.4] asignado al Grupo 1\n",
            "Dato [0.9 0.1] asignado al Grupo 4\n",
            "Dato [0.1 0.2] asignado al Grupo 1\n",
            "Dato [0.3 1. ] asignado al Grupo 2\n",
            "Dato [0.2 0.8] asignado al Grupo 2\n",
            "Dato [0.7 0.1] asignado al Grupo 4\n",
            "Dato [0.5 0.9] asignado al Grupo 3\n",
            "Dato [0.3 0.4] asignado al Grupo 1\n"
          ]
        },
        {
          "output_type": "display_data",
          "data": {
            "text/plain": [
              "<Figure size 640x480 with 1 Axes>"
            ],
            "image/png": "[encoded data removed]"
          },
          "metadata": {}
        }
      ],
      "source": [
        "import numpy as np\n",
        "import matplotlib.pyplot as plt\n",
        "\n",
        "def distancia_euclidiana(punto1, punto2):\n",
        "    return np.sqrt(np.sum((punto1 - punto2) ** 2))\n",
        "\n",
        "def encontrar_ganador(pesos, entrada):\n",
        "    distancias = [distancia_euclidiana(pesos[i], entrada) for i in range(len(pesos))]\n",
        "    return np.argmin(distancias)\n",
        "\n",
        "def actualizar_pesos(pesos, ganador, entrada, tasa_aprendizaje):\n",
        "    pesos[ganador] += tasa_aprendizaje * (entrada - pesos[ganador])\n",
        "    return pesos\n",
        "\n",
        "# Pesos iniciales\n",
        "W1 = np.array([0.40, 0.50])\n",
        "W2 = np.array([0.40, 0.60])\n",
        "W3 = np.array([0.50, 0.60])\n",
        "W4 = np.array([0.50, 0.50])\n",
        "\n",
        "pesos = [W1, W2, W3, W4]\n",
        "\n",
        "# Datos de entrada\n",
        "datos = np.array([\n",
        "    [0.5, 0.1],\n",
        "    [0.7, 0.4],\n",
        "    [0.7, 0.9],\n",
        "    [0.8, 0.3],\n",
        "    [0, 0.7],\n",
        "    [0.3, 0.6],\n",
        "    [0.8, 1],\n",
        "    [0.3, 0.2],\n",
        "    [0.9, 0.7],\n",
        "    [0.7, 0.6],\n",
        "    [0.4, 0.7],\n",
        "    [0.1, 0.4],\n",
        "    [0.5, 0.4],\n",
        "    [0.9, 0.1],\n",
        "    [0.1, 0.2],\n",
        "    [0.3, 1],\n",
        "    [0.2, 0.8],\n",
        "    [0.7, 0.1],\n",
        "    [0.5, 0.9],\n",
        "    [0.3, 0.4]\n",
        "])\n",
        "\n",
        "# Parámetros\n",
        "tasa_aprendizaje = 0.2\n",
        "num_epocas = 100\n",
        "\n",
        "# Entrenamiento\n",
        "for epoca in range(num_epocas):\n",
        "    for dato in datos:\n",
        "        ganador = encontrar_ganador(pesos, dato)\n",
        "        pesos = actualizar_pesos(pesos, ganador, dato, tasa_aprendizaje)\n",
        "        pesos = np.round(pesos, decimals=1)\n",
        "\n",
        "# Resultados\n",
        "print(\"Pesos finales:\")\n",
        "for i, peso in enumerate(pesos):\n",
        "    print(f\"W{i+1} = {peso}\")\n",
        "\n",
        "# Asignar cada dato al grupo correspondiente\n",
        "grupos = []\n",
        "for dato in datos:\n",
        "    ganador = encontrar_ganador(pesos, dato)\n",
        "    grupos.append(ganador)\n",
        "\n",
        "# Imprimir los resultados\n",
        "print(\"Asignación de grupos:\")\n",
        "for i, dato in enumerate(datos):\n",
        "    print(f\"Dato {dato} asignado al Grupo {grupos[i]+1}\")\n",
        "\n"
      ]
    },
    {
      "cell_type": "markdown",
      "source": [
        "Este código implementa el algoritmo de Kohonen para el clustering de datos. Los pesos iniciales se definen como puntos en el espacio bidimensional. A medida que el algoritmo se entrena, los pesos se ajustan para agrupar los datos de entrada. Después del entrenamiento, se imprimen los pesos finales y se muestra la asignación de cada dato a un grupo en forma de texto. Además, se crea un gráfico de dispersión donde se representan los datos de entrada, coloreados según su grupo asignado, y los pesos finales se muestran como marcadores rojos en forma de \"x\". Esto proporciona una representación visual de los resultados del algoritmo de Kohonen.\n",
        "Se utilizaron los datos vistos en clase"
      ],
      "metadata": {
        "id": "MgdSnhQClUYd"
      }
    }
  ]
}